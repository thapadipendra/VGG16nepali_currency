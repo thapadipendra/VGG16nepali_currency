{
  "nbformat": 4,
  "nbformat_minor": 0,
  "metadata": {
    "colab": {
      "name": "vggfrmlecture.ipynb",
      "private_outputs": true,
      "provenance": []
    },
    "kernelspec": {
      "name": "python3",
      "display_name": "Python 3"
    },
    "accelerator": "GPU"
  },
  "cells": [
    {
      "cell_type": "code",
      "metadata": {
        "id": "HAbBFONd09KS"
      },
      "source": [
        "import tensorflow as tf\r\n",
        "from google.colab import drive \r\n",
        "drive.mount('/content/drive/')\r\n",
        "import os\r\n",
        "import zipfile\r\n",
        "dataset_path = \"/content/drive/MyDrive/Colab Notebooks/nepali_notes.zip\"\r\n",
        "zip_object = zipfile.ZipFile(file=dataset_path, mode=\"r\")\r\n",
        "zip_object.extractall(\"./\")\r\n",
        "zip_object.close()"
      ],
      "execution_count": null,
      "outputs": []
    },
    {
      "cell_type": "code",
      "metadata": {
        "id": "49VfaYt52lBk"
      },
      "source": [
        "from tensorflow.keras.preprocessing.image import ImageDataGenerator\r\n",
        "\r\n",
        "train_dir='/content/nepali_notes/train'\r\n",
        "valid_dir='/content/nepali_notes/valid'\r\n",
        "\r\n",
        " \r\n",
        "train_datagen = ImageDataGenerator(\r\n",
        "      rescale=1./255,\r\n",
        "      rotation_range=90,\r\n",
        "      width_shift_range=0.1,\r\n",
        "      height_shift_range=0.1,\r\n",
        "      shear_range=0.1,\r\n",
        "      zoom_range=[0.9, 1.5],\r\n",
        "      horizontal_flip=True,\r\n",
        "      vertical_flip=True,\r\n",
        "      fill_mode='nearest')\r\n",
        "test_datagen = ImageDataGenerator(rescale=1./255)\r\n",
        "\r\n",
        "\r\n",
        "train_generator= train_datagen.flow_from_directory(directory=train_dir,\r\n",
        "                                                    target_size=(224, 224),\r\n",
        "                                                    batch_size=20,\r\n",
        "                                                    shuffle=True,\r\n",
        "                                                   class_mode='categorical'\r\n",
        "                                                     )\r\n",
        "\r\n",
        "validation_generator  = test_datagen.flow_from_directory(directory=valid_dir,\r\n",
        "                                                  target_size=(224, 224),\r\n",
        "                                                  batch_size=20,\r\n",
        "                                                  shuffle=False)\r\n",
        "\r\n"
      ],
      "execution_count": null,
      "outputs": []
    },
    {
      "cell_type": "code",
      "metadata": {
        "id": "Syg3TAzFmLoY"
      },
      "source": [
        ""
      ],
      "execution_count": null,
      "outputs": []
    },
    {
      "cell_type": "code",
      "metadata": {
        "id": "YOgidPnOlvw0"
      },
      "source": [
        "train_generator.class_indices"
      ],
      "execution_count": null,
      "outputs": []
    },
    {
      "cell_type": "code",
      "metadata": {
        "id": "xgiqY1j93-IW"
      },
      "source": [
        "from tensorflow.keras.applications import VGG16\r\n",
        "conv_base=VGG16(weights='imagenet',include_top=False,input_shape=(224, 224,3))\r\n",
        "conv_base.summary()\r\n"
      ],
      "execution_count": null,
      "outputs": []
    },
    {
      "cell_type": "code",
      "metadata": {
        "id": "cw7GyF3f61qj"
      },
      "source": [
        "from tensorflow.keras import models\r\n",
        "from tensorflow.keras import layers\r\n",
        "\r\n",
        "model=models.Sequential()\r\n",
        "model.add(conv_base)\r\n",
        "model.add(layers.Flatten())\r\n",
        "model.add(layers.Dense(256,activation='relu'))\r\n",
        "model.add(layers.Dense(7,activation='sigmoid'))\r\n",
        "model.summary()\r\n",
        "\r\n",
        "\r\n"
      ],
      "execution_count": null,
      "outputs": []
    },
    {
      "cell_type": "code",
      "metadata": {
        "id": "kAcAe7H-9HpN"
      },
      "source": [
        "# conv_base.trainable=False\r\n",
        "from tensorflow.keras import optimizers\r\n",
        "model.compile(loss='categorical_crossentropy',optimizer=optimizers.RMSprop(lr=1e-5),metrics=['categorical_accuracy'])\r\n"
      ],
      "execution_count": null,
      "outputs": []
    },
    {
      "cell_type": "code",
      "metadata": {
        "id": "1PBXgIN2_ETk"
      },
      "source": [
        "# checkpoint_cb=keras.callbacks.\r\n",
        "history = model.fit_generator(generator=train_generator,\r\n",
        "                                  epochs=10,\r\n",
        "                                  validation_data=validation_generator,\r\n",
        "                                  )"
      ],
      "execution_count": null,
      "outputs": []
    },
    {
      "cell_type": "code",
      "metadata": {
        "id": "TpiUjQrF_-oQ"
      },
      "source": [
        "import pandas as pd\r\n",
        "import matplotlib.pyplot as plt\r\n",
        "%matplotlib inline\r\n",
        "\r\n",
        "pd.DataFrame(history.history).plot(figsize=(8,5))\r\n",
        "plt.grid(True)\r\n",
        "plt.gca().set_ylim(0,1)\r\n",
        "plt.show()"
      ],
      "execution_count": null,
      "outputs": []
    },
    {
      "cell_type": "code",
      "metadata": {
        "id": "gdNi92V3gXOK"
      },
      "source": [
        "from PIL import Image\r\n",
        "import numpy as np\r\n",
        "from skimage import transform\r\n",
        "def load(filename):\r\n",
        "   np_image = Image.open(filename)\r\n",
        "   np_image = np.array(np_image).astype('float32')/255\r\n",
        "   np_image = transform.resize(np_image, (224, 224, 3))\r\n",
        "   np_image = np.expand_dims(np_image, axis=0)\r\n",
        "   return np_image\r\n",
        "\r\n",
        "image = load('/content/R5b268b451f54a90d19a816edd52deeba.jpg')\r\n",
        "model.predict(image)"
      ],
      "execution_count": null,
      "outputs": []
    },
    {
      "cell_type": "code",
      "metadata": {
        "id": "Nh4bN17oiE-R"
      },
      "source": [
        "model.save('mymodel.h5')"
      ],
      "execution_count": null,
      "outputs": []
    },
    {
      "cell_type": "code",
      "metadata": {
        "id": "4_7pvZ9IqgQX"
      },
      "source": [
        "\r\n",
        "converter = tf.lite.TFLiteConverter.from_saved_model('/content/mymodel')\r\n",
        "tflite_model = converter.convert()\r\n",
        "\r\n",
        "with open('model.tflite', 'wb') as f:\r\n",
        "  f.write(tflite_model)\r\n"
      ],
      "execution_count": null,
      "outputs": []
    },
    {
      "cell_type": "code",
      "metadata": {
        "id": "FQPvuGuorLPK"
      },
      "source": [
        "loaded = models.load_model('/content/mymodel.h5')"
      ],
      "execution_count": null,
      "outputs": []
    },
    {
      "cell_type": "code",
      "metadata": {
        "id": "cnD8NJFCr1fO"
      },
      "source": [
        "loaded.summary()"
      ],
      "execution_count": null,
      "outputs": []
    }
  ]
}